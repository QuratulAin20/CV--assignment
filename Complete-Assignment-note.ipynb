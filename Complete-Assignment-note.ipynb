{
 "cells": [
  {
   "cell_type": "markdown",
   "metadata": {},
   "source": [
    "**Author**: `Quratul AIN`\\\n",
    "**contact** : `qurat-zee@hotmail.com`"
   ]
  },
  {
   "cell_type": "markdown",
   "metadata": {},
   "source": [
    "# Problem Statement\n",
    "Record a video or download a timelapse video of evening where the transition of day to evening or evening to night is visible clearly. \n",
    "\n",
    "Video condition : any of below\n",
    "1. Day to evening\n",
    "2. Evening to Night\n",
    "3. Night to Morning/Day\n",
    "\n",
    "- Input : video file path\n",
    "- Output : 40% is Day/Evening, 60% is Night/Evening\n",
    "- Output : 20 Early morning, 10% night, 70% Day"
   ]
  },
  {
   "cell_type": "markdown",
   "metadata": {},
   "source": [
    "# Solution\n",
    "The above problem can be solve by calculating the brightness with in the frames of video and can solve by using following approaches\n",
    "\n",
    "1. Calculating the RGB Ratio\n",
    "This method involves analyzing the individual Red, Green, and Blue channels of each frame in the video to determine brightness and color characteristics.\n",
    "How It Works:\n",
    "- Calculate the average pixel values of the R, G, and B channels.\n",
    "- By examining the ratios of these values, categorize frames based on their color dominance (e.g., a high red ratio might indicate a sunset).\n",
    "  This helps in distinguishing different lighting conditions while retaining color information.\n",
    "\n",
    "2. Using the Value Channel in HSV\n",
    "In the HSV (Hue, Saturation, Value) color space, the Value channel represents brightness.\n",
    "How It Works:\n",
    "- Convert each frame from BGR to HSV.\n",
    "- Use the Value (V) channel to assess brightness levels.\n",
    "- This method can be more effective in capturing variations in lighting conditions due to the separation of color and brightness information.\n",
    "  It allows for better categorization of frames into Day, Evening, and Night.\n",
    "  \n",
    "3. Using the Grayscale Approach\n",
    "The grayscale approach simplifies the frame to a single channel that represents intensity without color information.\n",
    "How It Works:\n",
    "- Convert each frame to grayscale using OpenCV.\n",
    "- Calculate the mean pixel intensity of the grayscale image.\n",
    "- Use this average intensity to categorize the frame as Day, Evening, or Night.\n",
    "- This method is straightforward and computationally efficient, focusing solely on brightness.\n",
    "\n",
    "\n",
    "Hence \n",
    "- RGB Ratio retains color information and can reveal specific conditions but may be sensitive to lighting changes.\n",
    "- HSV provides a robust way to capture brightness while separating color information, making it effective for varying conditions.\n",
    "- Grayscale is simple and fast, ideal for applications focused purely on brightness without concern for color.\n"
   ]
  },
  {
   "cell_type": "markdown",
   "metadata": {},
   "source": [
    "# WorkFlow\n",
    "\n",
    "**Data Collection**\n",
    "-  A video that show dawn or dusk\n",
    "  \n",
    "**Analysis Using HSV** \n",
    "   1.  Convert the video into frames, and then convert each frame into a HSV image(remember opencv use BGR not RGB).So we use BGR2HSV converter\n",
    "   2.  In HSV the brightness channel is V so we calculate the mean of overall brightness of each frames.\n",
    "   3.  Next set a threshold to filter out the frames that are not in the range of dawn and dusk by applying condition.\n",
    "   4.  Next we create a counter to count the number of frames w.r.t day evening and night\n",
    "   5.  Finally process our video frames and categorize it each frame according to the brightness in order to specify the day,evening or night.\n",
    "   6.  At last calculate the percentage of all the frames. \n",
    "   7.  Finally we plot the count and percentage of frames w.r.t day evening and night to visualize the resultes."
   ]
  },
  {
   "cell_type": "code",
   "execution_count": 9,
   "metadata": {},
   "outputs": [
    {
     "name": "stdout",
     "output_type": "stream",
     "text": [
      "Requirement already satisfied: opencv-python in c:\\users\\dell\\appdata\\local\\packages\\pythonsoftwarefoundation.python.3.10_qbz5n2kfra8p0\\localcache\\local-packages\\python310\\site-packages (4.10.0.84)\n",
      "Requirement already satisfied: numpy>=1.21.2 in c:\\users\\dell\\appdata\\local\\packages\\pythonsoftwarefoundation.python.3.10_qbz5n2kfra8p0\\localcache\\local-packages\\python310\\site-packages (from opencv-python) (1.24.2)\n"
     ]
    },
    {
     "name": "stderr",
     "output_type": "stream",
     "text": [
      "\n",
      "[notice] A new release of pip is available: 24.2 -> 24.3.1\n",
      "[notice] To update, run: C:\\Users\\DELL\\AppData\\Local\\Microsoft\\WindowsApps\\PythonSoftwareFoundation.Python.3.10_qbz5n2kfra8p0\\python.exe -m pip install --upgrade pip\n"
     ]
    }
   ],
   "source": [
    "!pip install opencv-python\n",
    "import cv2\n",
    "import numpy as np\n",
    "import os"
   ]
  },
  {
   "cell_type": "code",
   "execution_count": null,
   "metadata": {},
   "outputs": [
    {
     "name": "stdout",
     "output_type": "stream",
     "text": [
      "Total frames: 610\n",
      "Day frames saved: 0\n",
      "Evening frames saved: 530\n",
      "Night frames saved: 80\n",
      "Day Percentage: 0.00%\n",
      "Evening Percentage: 86.89%\n",
      "Night Percentage: 13.11%\n"
     ]
    }
   ],
   "source": [
    "# Function to categorize brightness\n",
    "def categorize_brightness(frame):\n",
    "    hsv = cv2.cvtColor(frame, cv2.COLOR_BGR2HSV)\n",
    "    brightness = np.mean(hsv[:, :, 2])  \n",
    "    if brightness > 200:  \n",
    "        return \"Day\"\n",
    "    elif brightness > 100:  \n",
    "        return \"Evening\"\n",
    "    else:  \n",
    "        return \"Night\"\n",
    "\n",
    "# Data Ingestion\n",
    "video_path = \"video.mp4\"  \n",
    "cap = cv2.VideoCapture(video_path)\n",
    "\n",
    "# Create a folder named 'images' if it doesn't exist, its also optional not necessary just for R&D\n",
    "output_folder = \"images\"\n",
    "os.makedirs(output_folder, exist_ok=True)  \n",
    "\n",
    "# Initialize counters for counting\n",
    "day_count = 0\n",
    "evening_count = 0\n",
    "night_count = 0\n",
    "total_frames = 0\n",
    "\n",
    "# Process the video frames\n",
    "while True:\n",
    "    ret, frame = cap.read()\n",
    "    if not ret:\n",
    "        break  \n",
    "\n",
    "    # Categorize the current frame\n",
    "    category = categorize_brightness(frame)\n",
    "    \n",
    "    # Save the frame as an image based on its category, this step is optional not necessary, just for R&D\n",
    "    if category == \"Day\":\n",
    "        day_count += 1\n",
    "        cv2.imwrite(os.path.join(output_folder, f\"day_frame_{day_count}.jpg\"), frame)  # Save Day frames\n",
    "    elif category == \"Evening\":\n",
    "        evening_count += 1\n",
    "        cv2.imwrite(os.path.join(output_folder, f\"evening_frame_{evening_count}.jpg\"), frame)  # Save Evening frames\n",
    "    else:\n",
    "        night_count += 1\n",
    "        cv2.imwrite(os.path.join(output_folder, f\"night_frame_{night_count}.jpg\"), frame)  # Save Night frames\n",
    "    \n",
    "    total_frames += 1\n",
    "\n",
    "# Release the video capture object\n",
    "cap.release()\n",
    "\n",
    "# Print the results\n",
    "print(f\"Total frames: {total_frames}\")\n",
    "print(f\"Day frames saved: {day_count}\")\n",
    "print(f\"Evening frames saved: {evening_count}\")\n",
    "print(f\"Night frames saved: {night_count}\")\n",
    "\n",
    "\n",
    "# Calculate percentages \n",
    "if total_frames > 0:\n",
    "    day_percentage = (day_count / total_frames) * 100\n",
    "    evening_percentage = (evening_count / total_frames) * 100\n",
    "    night_percentage = (night_count / total_frames) * 100\n",
    "\n",
    "    print(f\"Day Percentage: {day_percentage:.2f}%\")\n",
    "    print(f\"Evening Percentage: {evening_percentage:.2f}%\")\n",
    "    print(f\"Night Percentage: {night_percentage:.2f}%\")\n",
    "else:\n",
    "    print(\"No frames processed.\")"
   ]
  },
  {
   "cell_type": "markdown",
   "metadata": {},
   "source": [
    "> Threshold Conditions:\n",
    " Different lighting conditions can significantly affect the brightness of scenes and detect the specific event\n",
    "- `Daylight`: Bright, often exceeding 200 in the V channel, indicating well-lightening scenes but here we have cloudy weather thats why it detect no bright light.\n",
    "- `Evening`: Transitional lighting, where the brightness may vary significantly but often falls in the range of 100 to 200 as the sun sets.\n",
    "- `Night`: Very low brightness, typically below 100, indicating darkness."
   ]
  },
  {
   "cell_type": "markdown",
   "metadata": {},
   "source": [
    "# Visualizing the result"
   ]
  },
  {
   "cell_type": "code",
   "execution_count": 11,
   "metadata": {},
   "outputs": [],
   "source": [
    "import matplotlib.pyplot as plt"
   ]
  },
  {
   "cell_type": "code",
   "execution_count": 12,
   "metadata": {},
   "outputs": [
    {
     "data": {
      "image/png": "[encoded data removed]",
      "text/plain": [
       "<Figure size 800x500 with 1 Axes>"
      ]
     },
     "metadata": {},
     "output_type": "display_data"
    }
   ],
   "source": [
    "labels = ['Day', 'Evening', 'Night']\n",
    "counts = [day_count, evening_count, night_count]\n",
    "plt.figure(figsize=(8, 5))\n",
    "plt.bar(labels, counts, color=['yellow', 'orange', 'blue'])\n",
    "plt.title('Count of Frames by Time of Day')\n",
    "plt.xlabel('Time of Day')\n",
    "plt.ylabel('Count of Frames')\n",
    "plt.ylim(0, max(counts) + 10) \n",
    "plt.grid(axis='y')\n",
    "plt.show()"
   ]
  },
  {
   "cell_type": "code",
   "execution_count": null,
   "metadata": {},
   "outputs": [
    {
     "data": {
      "image/png": "[encoded data removed]",
      "text/plain": [
       "<Figure size 800x500 with 1 Axes>"
      ]
     },
     "metadata": {},
     "output_type": "display_data"
    }
   ],
   "source": [
    "# Prepare data for plotting percentage\n",
    "labels = ['Day', 'Evening', 'Night']\n",
    "percentages = [day_percentage, evening_percentage, night_percentage]\n",
    "\n",
    "# Create a bar plot for percentages\n",
    "plt.figure(figsize=(8, 5))\n",
    "plt.bar(labels, percentages, color=['yellow', 'orange', 'blue'])\n",
    "plt.title('Percentage of Frames by Time of Day')\n",
    "plt.xlabel('Time of Day')\n",
    "plt.ylabel('Percentage of Frames (%)')\n",
    "plt.ylim(0, 100)  # Set y-axis limit from 0 to 100%\n",
    "plt.grid(axis='y')\n",
    "\n",
    "# Show the plot\n",
    "plt.show()"
   ]
  },
  {
   "cell_type": "markdown",
   "metadata": {},
   "source": [
    "# Using Gray-Scale"
   ]
  },
  {
   "cell_type": "code",
   "execution_count": null,
   "metadata": {},
   "outputs": [
    {
     "name": "stdout",
     "output_type": "stream",
     "text": [
      "Day: 0.00%\n",
      "Evening: 83.93%\n",
      "Night: 16.07%\n"
     ]
    }
   ],
   "source": [
    "# Function to categorize brightness\n",
    "def categorize_brightness(frame):\n",
    "    # Convert the frame to grayscale\n",
    "    gray_frame = cv2.cvtColor(frame, cv2.COLOR_BGR2GRAY)\n",
    "    \n",
    "    # Calculate the average brightness\n",
    "    brightness = np.mean(gray_frame)  # Mean of pixel values in grayscale\n",
    "    \n",
    "    # Define thresholds for categorization\n",
    "    if brightness > 200:  # High brightness\n",
    "        return \"Day\"\n",
    "    elif brightness > 100:  # Medium brightness\n",
    "        return \"Evening\"\n",
    "    else:  # Low brightness\n",
    "        return \"Night\"\n",
    "\n",
    "# Input video file path\n",
    "video_path = \"video.mp4\" \n",
    "cap = cv2.VideoCapture(video_path)\n",
    "\n",
    "# Initialize counters\n",
    "day_count = 0\n",
    "evening_count = 0\n",
    "night_count = 0\n",
    "total_frames = 0\n",
    "\n",
    "# Process the video frames\n",
    "while True:\n",
    "    ret, frame = cap.read()\n",
    "    if not ret:\n",
    "        break  \n",
    "\n",
    "    # Categorize the current frame\n",
    "    category = categorize_brightness(frame)\n",
    "    \n",
    "    # Increment the appropriate counter\n",
    "    if category == \"Day\":\n",
    "        day_count += 1\n",
    "    elif category == \"Evening\":\n",
    "        evening_count += 1\n",
    "    else:\n",
    "        night_count += 1\n",
    "    \n",
    "    total_frames += 1\n",
    "\n",
    "# Release the video capture object\n",
    "cap.release()\n",
    "\n",
    "# Calculate percentages\n",
    "if total_frames > 0:\n",
    "    day_percentage = (day_count / total_frames) * 100\n",
    "    evening_percentage = (evening_count / total_frames) * 100\n",
    "    night_percentage = (night_count / total_frames) * 100\n",
    "\n",
    "    # Print the results\n",
    "    print(f\"Day: {day_percentage:.2f}%\")\n",
    "    print(f\"Evening: {evening_percentage:.2f}%\")\n",
    "    print(f\"Night: {night_percentage:.2f}%\")\n",
    "else:\n",
    "    print(\"No frames processed.\")"
   ]
  },
  {
   "cell_type": "markdown",
   "metadata": {},
   "source": [
    "**Grayscale Pixel Values**\n",
    "- In a grayscale image, pixel values range from 0 to 255:\n",
    " 0 represents black (no brightness).\n",
    " 255 represents white (maximum brightness).\n",
    " Values in between represent varying shades of gray.\n",
    "\n",
    "\n",
    "*Categorization Logic*\n",
    "The chosen thresholds are meant to differentiate between bright, medium, and dark conditions:\n",
    "- Brightness > 200: This is considered a very bright condition (likely daylight).\n",
    "- Brightness > 100 and ≤ 200: This represents a medium brightness, which could be interpreted as evening or twilight conditions.\n",
    "- Brightness ≤ 100: This indicates low brightness, typically associated with nighttime."
   ]
  },
  {
   "cell_type": "markdown",
   "metadata": {},
   "source": [
    "# Using RGB ratio"
   ]
  },
  {
   "cell_type": "code",
   "execution_count": null,
   "metadata": {},
   "outputs": [
    {
     "name": "stdout",
     "output_type": "stream",
     "text": [
      "Day: 0.00%\n",
      "Evening: 83.77%\n",
      "Night: 16.23%\n"
     ]
    }
   ],
   "source": [
    "# Function to categorize brightness based on RGB channels\n",
    "def categorize_brightness_rgb(frame):\n",
    "    # Split the frame into R, G, and B channels\n",
    "    b, g, r = cv2.split(frame)\n",
    "    \n",
    "    # Calculate average brightness as the mean of R, G, B channels\n",
    "    brightness = (np.mean(r) + np.mean(g) + np.mean(b)) / 3\n",
    "    \n",
    "    # Define thresholds for categorization\n",
    "    if brightness > 200: \n",
    "        return \"Day\"\n",
    "    elif brightness > 100: \n",
    "        return \"Evening\"\n",
    "    else:  \n",
    "        return \"Night\"\n",
    "\n",
    "# Function to analyze color ratios (for example, high red content)\n",
    "def analyze_color_ratios(frame):\n",
    "    b, g, r = cv2.split(frame)\n",
    "    total = np.sum(r) + np.sum(g) + np.sum(b)\n",
    "    \n",
    "    if total == 0:\n",
    "        return 0, 0, 0  # Avoid division by zero\n",
    "    \n",
    "    red_ratio = np.sum(r) / total\n",
    "    green_ratio = np.sum(g) / total\n",
    "    blue_ratio = np.sum(b) / total\n",
    "\n",
    "    return red_ratio, green_ratio, blue_ratio\n",
    "\n",
    "# Input video file path\n",
    "video_path = \"video.mp4\"  \n",
    "cap = cv2.VideoCapture(video_path)\n",
    "\n",
    "# Initialize counters\n",
    "day_count = 0\n",
    "evening_count = 0\n",
    "night_count = 0\n",
    "total_frames = 0\n",
    "\n",
    "# Process the video frames\n",
    "while True:\n",
    "    ret, frame = cap.read()\n",
    "    if not ret:\n",
    "        break \n",
    "    \n",
    "    # Categorize the current frame based on brightness\n",
    "    category = categorize_brightness_rgb(frame)\n",
    "    \n",
    "    # Increment the appropriate counter\n",
    "    if category == \"Day\":\n",
    "        day_count += 1\n",
    "    elif category == \"Evening\":\n",
    "        evening_count += 1\n",
    "    else:\n",
    "        night_count += 1\n",
    "    \n",
    "    # Analyze color ratios\n",
    "    red_ratio, green_ratio, blue_ratio = analyze_color_ratios(frame)\n",
    "\n",
    "    total_frames += 1\n",
    "\n",
    "# Release the video capture object\n",
    "cap.release()\n",
    "\n",
    "# Calculate percentages\n",
    "if total_frames > 0:\n",
    "    day_percentage = (day_count / total_frames) * 100\n",
    "    evening_percentage = (evening_count / total_frames) * 100\n",
    "    night_percentage = (night_count / total_frames) * 100\n",
    "\n",
    "    # Print the results\n",
    "    print(f\"Day: {day_percentage:.2f}%\")\n",
    "    print(f\"Evening: {evening_percentage:.2f}%\")\n",
    "    print(f\"Night: {night_percentage:.2f}%\")\n",
    "else:\n",
    "    print(\"No frames processed.\")"
   ]
  },
  {
   "cell_type": "markdown",
   "metadata": {},
   "source": [
    "**Threshold Ranges**\n",
    "- High Brightness (Day):\n",
    "A threshold above 200 signifies that the frame is bright enough to be categorized as \"Day.\"\n",
    "- Medium Brightness (Evening):\n",
    "A threshold range of 100 to 200 captures frames that are transitioning from daylight to darkness, categorizing them as \"Evening.\"\n",
    "- Low Brightness (Night):\n",
    "Values below 100 indicate a lack of light, categorizing frames as \"Night.\""
   ]
  },
  {
   "cell_type": "code",
   "execution_count": null,
   "metadata": {},
   "outputs": [],
   "source": []
  }
 ],
 "metadata": {
  "kernelspec": {
   "display_name": "Python 3",
   "language": "python",
   "name": "python3"
  },
  "language_info": {
   "codemirror_mode": {
    "name": "ipython",
    "version": 3
   },
   "file_extension": ".py",
   "mimetype": "text/x-python",
   "name": "python",
   "nbconvert_exporter": "python",
   "pygments_lexer": "ipython3",
   "version": "3.10.11"
  }
 },
 "nbformat": 4,
 "nbformat_minor": 2
}
